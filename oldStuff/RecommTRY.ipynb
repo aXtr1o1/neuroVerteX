{
  "cells": [
    {
      "cell_type": "code",
      "execution_count": null,
      "metadata": {
        "id": "Wt_wzQ9N5zTE"
      },
      "outputs": [],
      "source": [
        "from google.colab import drive\n",
        "import numpy as np\n",
        "import pandas as pd\n",
        "import torch"
      ]
    },
    {
      "cell_type": "code",
      "execution_count": null,
      "metadata": {
        "colab": {
          "base_uri": "https://localhost:8080/"
        },
        "id": "h630ecYM8lM5",
        "outputId": "c95e0c4a-e192-44aa-820b-5b989d6615fc"
      },
      "outputs": [
        {
          "output_type": "stream",
          "name": "stdout",
          "text": [
            "Looking in indexes: https://pypi.org/simple, https://us-python.pkg.dev/colab-wheels/public/simple/\n",
            "Looking in links: https://pytorch-geometric.com/whl/torch-1.13.1+cu116.html\n",
            "Requirement already satisfied: torch-scatter in /usr/local/lib/python3.8/dist-packages (2.1.0+pt113cu116)\n",
            "Looking in indexes: https://pypi.org/simple, https://us-python.pkg.dev/colab-wheels/public/simple/\n",
            "Looking in links: https://pytorch-geometric.com/whl/torch-1.13.1+cu116.html\n",
            "Requirement already satisfied: torch-sparse in /usr/local/lib/python3.8/dist-packages (0.6.16+pt113cu116)\n",
            "Requirement already satisfied: scipy in /usr/local/lib/python3.8/dist-packages (from torch-sparse) (1.7.3)\n",
            "Requirement already satisfied: numpy<1.23.0,>=1.16.5 in /usr/local/lib/python3.8/dist-packages (from scipy->torch-sparse) (1.21.6)\n",
            "Looking in indexes: https://pypi.org/simple, https://us-python.pkg.dev/colab-wheels/public/simple/\n",
            "Looking in links: https://pytorch-geometric.com/whl/torch-1.13.1+cu116.html\n",
            "Requirement already satisfied: torch-cluster in /usr/local/lib/python3.8/dist-packages (1.6.0+pt113cu116)\n",
            "Requirement already satisfied: scipy in /usr/local/lib/python3.8/dist-packages (from torch-cluster) (1.7.3)\n",
            "Requirement already satisfied: numpy<1.23.0,>=1.16.5 in /usr/local/lib/python3.8/dist-packages (from scipy->torch-cluster) (1.21.6)\n",
            "Looking in indexes: https://pypi.org/simple, https://us-python.pkg.dev/colab-wheels/public/simple/\n",
            "Looking in links: https://pytorch-geometric.com/whl/torch-1.13.1+cu116.html\n",
            "Requirement already satisfied: torch-spline-conv in /usr/local/lib/python3.8/dist-packages (1.2.1+pt113cu116)\n",
            "Looking in indexes: https://pypi.org/simple, https://us-python.pkg.dev/colab-wheels/public/simple/\n",
            "Requirement already satisfied: torch-geometric in /usr/local/lib/python3.8/dist-packages (2.2.0)\n",
            "Requirement already satisfied: tqdm in /usr/local/lib/python3.8/dist-packages (from torch-geometric) (4.64.1)\n",
            "Requirement already satisfied: scipy in /usr/local/lib/python3.8/dist-packages (from torch-geometric) (1.7.3)\n",
            "Requirement already satisfied: pyparsing in /usr/local/lib/python3.8/dist-packages (from torch-geometric) (3.0.9)\n",
            "Requirement already satisfied: scikit-learn in /usr/local/lib/python3.8/dist-packages (from torch-geometric) (1.0.2)\n",
            "Requirement already satisfied: psutil>=5.8.0 in /usr/local/lib/python3.8/dist-packages (from torch-geometric) (5.9.4)\n",
            "Requirement already satisfied: jinja2 in /usr/local/lib/python3.8/dist-packages (from torch-geometric) (2.11.3)\n",
            "Requirement already satisfied: requests in /usr/local/lib/python3.8/dist-packages (from torch-geometric) (2.25.1)\n",
            "Requirement already satisfied: numpy in /usr/local/lib/python3.8/dist-packages (from torch-geometric) (1.21.6)\n",
            "Requirement already satisfied: MarkupSafe>=0.23 in /usr/local/lib/python3.8/dist-packages (from jinja2->torch-geometric) (2.0.1)\n",
            "Requirement already satisfied: chardet<5,>=3.0.2 in /usr/local/lib/python3.8/dist-packages (from requests->torch-geometric) (4.0.0)\n",
            "Requirement already satisfied: urllib3<1.27,>=1.21.1 in /usr/local/lib/python3.8/dist-packages (from requests->torch-geometric) (1.26.14)\n",
            "Requirement already satisfied: certifi>=2017.4.17 in /usr/local/lib/python3.8/dist-packages (from requests->torch-geometric) (2022.12.7)\n",
            "Requirement already satisfied: idna<3,>=2.5 in /usr/local/lib/python3.8/dist-packages (from requests->torch-geometric) (2.10)\n",
            "Requirement already satisfied: joblib>=0.11 in /usr/local/lib/python3.8/dist-packages (from scikit-learn->torch-geometric) (1.2.0)\n",
            "Requirement already satisfied: threadpoolctl>=2.0.0 in /usr/local/lib/python3.8/dist-packages (from scikit-learn->torch-geometric) (3.1.0)\n",
            "Looking in indexes: https://pypi.org/simple, https://us-python.pkg.dev/colab-wheels/public/simple/\n",
            "Requirement already satisfied: pyvis in /usr/local/lib/python3.8/dist-packages (0.3.1)\n",
            "Requirement already satisfied: networkx>=1.11 in /usr/local/lib/python3.8/dist-packages (from pyvis) (3.0)\n",
            "Requirement already satisfied: jinja2>=2.9.6 in /usr/local/lib/python3.8/dist-packages (from pyvis) (2.11.3)\n",
            "Requirement already satisfied: ipython>=5.3.0 in /usr/local/lib/python3.8/dist-packages (from pyvis) (7.9.0)\n",
            "Requirement already satisfied: jsonpickle>=1.4.1 in /usr/local/lib/python3.8/dist-packages (from pyvis) (3.0.1)\n",
            "Requirement already satisfied: pickleshare in /usr/local/lib/python3.8/dist-packages (from ipython>=5.3.0->pyvis) (0.7.5)\n",
            "Requirement already satisfied: setuptools>=18.5 in /usr/local/lib/python3.8/dist-packages (from ipython>=5.3.0->pyvis) (57.4.0)\n",
            "Requirement already satisfied: decorator in /usr/local/lib/python3.8/dist-packages (from ipython>=5.3.0->pyvis) (4.4.2)\n",
            "Requirement already satisfied: backcall in /usr/local/lib/python3.8/dist-packages (from ipython>=5.3.0->pyvis) (0.2.0)\n",
            "Requirement already satisfied: traitlets>=4.2 in /usr/local/lib/python3.8/dist-packages (from ipython>=5.3.0->pyvis) (5.7.1)\n",
            "Requirement already satisfied: pygments in /usr/local/lib/python3.8/dist-packages (from ipython>=5.3.0->pyvis) (2.6.1)\n",
            "Requirement already satisfied: pexpect in /usr/local/lib/python3.8/dist-packages (from ipython>=5.3.0->pyvis) (4.8.0)\n",
            "Requirement already satisfied: prompt-toolkit<2.1.0,>=2.0.0 in /usr/local/lib/python3.8/dist-packages (from ipython>=5.3.0->pyvis) (2.0.10)\n",
            "Requirement already satisfied: jedi>=0.10 in /usr/local/lib/python3.8/dist-packages (from ipython>=5.3.0->pyvis) (0.18.2)\n",
            "Requirement already satisfied: MarkupSafe>=0.23 in /usr/local/lib/python3.8/dist-packages (from jinja2>=2.9.6->pyvis) (2.0.1)\n",
            "Requirement already satisfied: parso<0.9.0,>=0.8.0 in /usr/local/lib/python3.8/dist-packages (from jedi>=0.10->ipython>=5.3.0->pyvis) (0.8.3)\n",
            "Requirement already satisfied: wcwidth in /usr/local/lib/python3.8/dist-packages (from prompt-toolkit<2.1.0,>=2.0.0->ipython>=5.3.0->pyvis) (0.2.5)\n",
            "Requirement already satisfied: six>=1.9.0 in /usr/local/lib/python3.8/dist-packages (from prompt-toolkit<2.1.0,>=2.0.0->ipython>=5.3.0->pyvis) (1.15.0)\n",
            "Requirement already satisfied: ptyprocess>=0.5 in /usr/local/lib/python3.8/dist-packages (from pexpect->ipython>=5.3.0->pyvis) (0.7.0)\n"
          ]
        }
      ],
      "source": [
        "def format_pytorch_version(version):\n",
        "  return version.split('+')[0]\n",
        "\n",
        "TORCH_version = torch.__version__\n",
        "TORCH = format_pytorch_version(TORCH_version)\n",
        "\n",
        "def format_cuda_version(version):\n",
        "  return 'cu' + version.replace('.', '')\n",
        "\n",
        "CUDA_version = torch.version.cuda\n",
        "CUDA = format_cuda_version(CUDA_version)\n",
        "\n",
        "!pip install torch-scatter     -f https://pytorch-geometric.com/whl/torch-{TORCH}+{CUDA}.html\n",
        "!pip install torch-sparse      -f https://pytorch-geometric.com/whl/torch-{TORCH}+{CUDA}.html\n",
        "!pip install torch-cluster     -f https://pytorch-geometric.com/whl/torch-{TORCH}+{CUDA}.html\n",
        "!pip install torch-spline-conv -f https://pytorch-geometric.com/whl/torch-{TORCH}+{CUDA}.html\n",
        "!pip install torch-geometric\n",
        "!pip install pyvis"
      ]
    },
    {
      "cell_type": "code",
      "execution_count": null,
      "metadata": {
        "id": "s_eIgI2mnAxV"
      },
      "outputs": [],
      "source": [
        "# !pip install wandb"
      ]
    },
    {
      "cell_type": "code",
      "execution_count": null,
      "metadata": {
        "id": "nFtDi-w58kel"
      },
      "outputs": [],
      "source": [
        "from torch_geometric.data import Data\n",
        "from torch_geometric import utils\n",
        "from torch_geometric.transforms import RandomLinkSplit\n",
        "import torch_geometric as pyg\n",
        "from torch_geometric.nn import SAGEConv\n",
        "from torch_geometric.utils import negative_sampling\n",
        "from torch import nn\n",
        "import torch.nn.functional as F\n",
        "# import wandb\n",
        "import networkx as nx\n",
        "from pyvis.network import Network\n",
        "from tqdm.auto import tqdm"
      ]
    },
    {
      "cell_type": "code",
      "execution_count": null,
      "metadata": {
        "colab": {
          "base_uri": "https://localhost:8080/"
        },
        "id": "tnBi3fFM9dQG",
        "outputId": "6d3a7684-4e42-46ba-c0e1-87679fe3d794"
      },
      "outputs": [
        {
          "output_type": "stream",
          "name": "stdout",
          "text": [
            "Drive already mounted at /content/drive; to attempt to forcibly remount, call drive.mount(\"/content/drive\", force_remount=True).\n"
          ]
        }
      ],
      "source": [
        "drive.mount(\"/content/drive\")\n"
      ]
    },
    {
      "cell_type": "code",
      "execution_count": null,
      "metadata": {
        "id": "427OHz2sGc9y"
      },
      "outputs": [],
      "source": [
        "df =pd.read_csv(\"/content/drive/MyDrive/Project/Data/SmallAmazonDataset.txt\")\n",
        "# dx=df[3:]\n",
        "# # dx=dx.reset_index()\n",
        "# dx = dx.drop(['index'], axis=1)\n",
        "\n",
        "len = df.shape[0]\n"
      ]
    },
    {
      "cell_type": "code",
      "execution_count": null,
      "metadata": {
        "id": "0HMqKglp6GNp"
      },
      "outputs": [],
      "source": [
        "from pandas.core.window.expanding import ExpandingIndexer\n",
        "idx = 0\n",
        "edge_index = []\n",
        "\n",
        "\n",
        "in_degrees = np.zeros((1911, 1))\n",
        "while idx < len:\n",
        "    line = df.values[idx][0]\n",
        "\n",
        "\n",
        "    start, end = line.strip().split()\n",
        "    start, end = int(start), int(end)\n",
        "\n",
        "    in_degrees[end][0] += 1\n",
        "\n",
        "    edge_index.append([start, end])\n",
        "    idx += 1\n",
        "\n",
        "edge_index = torch.tensor(edge_index).t().contiguous()\n",
        "graph = Data(x=in_degrees, edge_index=edge_index)\n"
      ]
    },
    {
      "cell_type": "code",
      "execution_count": null,
      "metadata": {
        "id": "1V0wOxE6SeTa",
        "colab": {
          "base_uri": "https://localhost:8080/"
        },
        "outputId": "a3ce0503-ee60-4756-a586-8e50f2a33ee0"
      },
      "outputs": [
        {
          "output_type": "stream",
          "name": "stdout",
          "text": [
            "Data(x=[1911, 1], edge_index=[2, 1910])\n",
            "Nodes:  1911\n"
          ]
        }
      ],
      "source": [
        "\n",
        "print(graph)\n",
        "print(\"Nodes: \",graph.num_nodes)\n"
      ]
    },
    {
      "cell_type": "code",
      "execution_count": null,
      "metadata": {
        "id": "d0cBOsajheBb",
        "colab": {
          "base_uri": "https://localhost:8080/",
          "height": 49,
          "referenced_widgets": [
            "76e1b23134b743589bbd80df2a6ad705",
            "30df82ad80814b90aafbbe88c6e861f6",
            "60aa1753c66541f1a9d19908a88aeac7",
            "d7a45318dfbb435db246a0f860d2371d",
            "c9740be3ed784721bf3d468d9df6c9ab",
            "36d47d54a43844fb8c0ec34ae9ec9edd",
            "3155312b38814db9b8c1c9bbbe4b87e0",
            "2b2959a0afbe4c75821c0425bd421842",
            "62059f60234d4eadbe23d10d4d2f6b98",
            "89e0328227a7427c9a89b94a37ce5baa",
            "62cc22f8443344d4ac785309d841b541"
          ]
        },
        "outputId": "03e115e4-1e7f-4751-d9b0-9235ecadc917"
      },
      "outputs": [
        {
          "output_type": "display_data",
          "data": {
            "text/plain": [
              "  0%|          | 0/352 [00:00<?, ?it/s]"
            ],
            "application/vnd.jupyter.widget-view+json": {
              "version_major": 2,
              "version_minor": 0,
              "model_id": "76e1b23134b743589bbd80df2a6ad705"
            }
          },
          "metadata": {}
        }
      ],
      "source": [
        "from os import CLD_CONTINUED\n",
        "#Visualize First 100\n",
        "mask = np.zeros(graph.x.shape[0])\n",
        "mask[:100] = 1\n",
        "mask = torch.tensor(mask == 1)\n",
        "\n",
        "\n",
        "# Create and save the new smaller graph by sampling nodes according to the a the mask\n",
        "g = Data(x=graph.x[mask], edge_index=utils.subgraph(mask, graph.edge_index)[0])\n",
        "netx = Network(height=\"750px\", width=\"100%\", bgcolor=\"#222222\", font_color=\"white\")\n",
        "net = nx.Graph()\n",
        "\n",
        "# Add the edges from the PyG graph to the PyVis network\n",
        "for e in tqdm(g.edge_index.T):\n",
        "\n",
        "    src = e[0].item()\n",
        "    dst = e[1].item()\n",
        "    if src == 0 or dst == 0:\n",
        "        CLD_CONTINUED\n",
        "    net.add_node(dst)\n",
        "    net.add_node(src)\n",
        "    net.add_edge(src, dst, value=0.1)\n",
        "netx.from_nx(net)\n",
        "netx.show(\"graph.html\")\n"
      ]
    },
    {
      "cell_type": "code",
      "execution_count": null,
      "metadata": {
        "id": "IBLAB8SKm60_"
      },
      "outputs": [],
      "source": [
        "# Create a mask with the value True for nodes to be retained and False for nodes to be removed\n",
        "# mask = np.zeros(g.x.shape[0])\n",
        "# mask[:100] = 1\n",
        "# mask = torch.tensor(mask == 1)\n",
        "# for e in tqdm(g.edge_index.T):\n",
        "\n",
        "\n",
        "#     src = e[0].item()\n",
        "#     dst = e[1].item()\n",
        "#     if src == 0 or dst == 0:\n",
        "#         continue"
      ]
    },
    {
      "cell_type": "code",
      "execution_count": null,
      "metadata": {
        "id": "SjkaHW6WGJFz",
        "colab": {
          "base_uri": "https://localhost:8080/",
          "height": 351,
          "referenced_widgets": [
            "c143d8decdc64114a03021cfcb7faa7f",
            "90e81fb1e69542f4be9cbea6a57eda56",
            "f969377f343943e0939c5463db9af1cd",
            "6639b3a2aa0e4850a695f8d6d82f2db2",
            "602f565652434c1aa3016d30f0293dee",
            "ade966ae93e1462296a65147303228fd",
            "c7224034e0a5422b874030eb8d341bfc",
            "b045f788405b42b2a45c8cdfd8b70ce0",
            "bafb4f7cf89547589dc5fcf834708613",
            "1487a8c78dd444efbed48113d1c04b78",
            "7087e674a514411e94fe5ffa5941c431"
          ]
        },
        "outputId": "68d75bd8-ea28-4220-d40e-68b894210918"
      },
      "outputs": [
        {
          "output_type": "display_data",
          "data": {
            "text/plain": [
              "  0%|          | 0/352 [00:00<?, ?it/s]"
            ],
            "application/vnd.jupyter.widget-view+json": {
              "version_major": 2,
              "version_minor": 0,
              "model_id": "c143d8decdc64114a03021cfcb7faa7f"
            }
          },
          "metadata": {}
        },
        {
          "output_type": "display_data",
          "data": {
            "text/plain": [
              "<Figure size 432x288 with 1 Axes>"
            ],
            "image/png": "[encoded data removed]"
          },
          "metadata": {}
        }
      ],
      "source": [
        "net = nx.Graph()\n",
        "\n",
        "for e in tqdm(g.edge_index.T):\n",
        "\n",
        "    src = e[0].item()\n",
        "\n",
        "    dst = e[1].item()\n",
        "\n",
        "    if src == 0 or dst == 0:\n",
        "        continue\n",
        "    net.add_node(dst )\n",
        "    net.add_node(src)\n",
        "    net.add_edge(src, dst, value=0.1)\n",
        "nx.draw(net)"
      ]
    },
    {
      "cell_type": "code",
      "execution_count": null,
      "metadata": {
        "id": "t4d4JQfIQGx1",
        "colab": {
          "base_uri": "https://localhost:8080/"
        },
        "outputId": "39d78f9b-91aa-4690-93da-6c16fde40c6f"
      },
      "outputs": [
        {
          "output_type": "stream",
          "name": "stdout",
          "text": [
            "Train Data Data(x=[1911, 1], edge_index=[2, 1284], pos_edge_label=[642], pos_edge_label_index=[2, 642], neg_edge_label=[642], neg_edge_label_index=[2, 642])\n",
            "Validation Data Data(x=[1911, 1], edge_index=[2, 1284], pos_edge_label=[100], pos_edge_label_index=[2, 100], neg_edge_label=[100], neg_edge_label_index=[2, 100])\n",
            "Test Data Data(x=[1911, 1], edge_index=[2, 1484], pos_edge_label=[100], pos_edge_label_index=[2, 100], neg_edge_label=[100], neg_edge_label_index=[2, 100])\n"
          ]
        }
      ],
      "source": [
        "#LINK PREDICTION\n",
        "transform = RandomLinkSplit(num_val=100, num_test=100, is_undirected=True, split_labels=True)\n",
        "train_data, val_data, test_data = transform(graph)\n",
        "print(\"Train Data\",train_data)\n",
        "\n",
        "\n",
        "print(\"Validation Data\",val_data)\n",
        "print(\"Test Data\",test_data)"
      ]
    },
    {
      "cell_type": "code",
      "execution_count": null,
      "metadata": {
        "id": "8eKMb6PJECT5"
      },
      "outputs": [],
      "source": [
        "import torch.nn as nn\n",
        "class GNNStack(torch.nn.Module):\n",
        "    def __init__(self, input_dim, hidden_dim, output_dim, num_layers, dropout):\n",
        "        super(GNNStack , self).__init__()\n",
        "        conv_model = pyg.nn.SAGEConv\n",
        "        self.convs = nn.ModuleList()\n",
        "        self.convs.append(conv_model(input_dim, hidden_dim))\n",
        "        self.dropout = dropout\n",
        "        self.num_layers = num_layers\n",
        "\n",
        "        # Create num_layers GraphSAGE convs\n",
        "        assert (self.num_layers >= 1), 'Number of layers is not >=1'\n",
        "        for l in range(self.num_layers - 1):\n",
        "            self.convs.append(conv_model(hidden_dim, hidden_dim))\n",
        "\n",
        "\n",
        "        # post-message-passing processing\n",
        "        self.post_mp = nn.Sequential(\n",
        "            nn.Linear(hidden_dim, hidden_dim), nn.Dropout(self.dropout),\n",
        "            nn.Linear(hidden_dim, output_dim))\n",
        "\n",
        "\n",
        "    def forward(self, x, edge_index):\n",
        "        for i in range(self.num_layers):\n",
        "            x = self.convs[i](x, edge_index)\n",
        "            x = F.relu(x)\n",
        "            x = F.dropout(x, p=self.dropout, training=self.training)\n",
        "\n",
        "\n",
        "        x = self.post_mp(x)\n",
        "\n",
        "\n",
        "        # Return final layer of embeddings if specified\n",
        "        return x\n"
      ]
    },
    {
      "cell_type": "code",
      "execution_count": null,
      "metadata": {
        "id": "ywsN_YCNE62i"
      },
      "outputs": [],
      "source": [
        "# class GNN(torch.nn.Module):\n",
        "#     def __init__(self,input_dim,hidden_channels , output_dim,  dropout):\n",
        "#       super(Gnn).__init__()\n",
        "#       self.conv1 = SAGEConv(input_dim, hidden_channels)\n",
        "#       self.conv2 = SAGEConv(hidden_channels, hidden_channels)\n",
        "#       self.conv3 = SAGEConv(hidden_channels, hidden_channels)\n",
        "\n",
        "\n",
        "#       self.post_mp = nn.Sequential(\n",
        "#           nn.Linear(hidden_channels,hidden_channels),nn.Dropout(self.dropout),\n",
        "#           nn.Linear(hidden_channels, output_dim)\n",
        "#       )\n",
        "\n",
        "\n",
        "\n",
        "#     def forward(self, x,edge_index):\n",
        "#         x = self.conv1(x,edge_index)\n",
        "#         x = F.relu()\n",
        "#         x = F.dropout(x, p=self.dropout, training=self.training)\n",
        "#         x = self.conv2(x,edge_index)\n",
        "#         x = F.relu()\n",
        "#         x = F.dropout(x, p=self.dropout, training=self.training)\n",
        "#         x = self.conv2(x,edge_index)\n",
        "#         x = F.relu()\n",
        "#         x = F.dropout(x, p=self.dropout, training=self.training)\n",
        "#         x = self.post_mp(x)\n",
        "#         return x"
      ]
    },
    {
      "cell_type": "code",
      "execution_count": null,
      "metadata": {
        "id": "xLualzgyHVbc"
      },
      "outputs": [],
      "source": [
        "class LinkPredictor(nn.Module):\n",
        "    def __init__(self, in_channels, hidden_channels, out_channels, num_layers,\n",
        "                 dropout):\n",
        "        super(LinkPredictor, self).__init__()\n",
        "\n",
        "        # Create linear layers\n",
        "        self.lins = nn.ModuleList()\n",
        "        self.lins.append(nn.Linear(in_channels, hidden_channels))\n",
        "        for _ in range(num_layers - 2):\n",
        "            self.lins.append(nn.Linear(hidden_channels, hidden_channels))\n",
        "        self.lins.append(nn.Linear(hidden_channels, out_channels))\n",
        "\n",
        "        self.dropout = dropout\n",
        "\n",
        "    def reset_parameters(self):\n",
        "        for lin in self.lins:\n",
        "            lin.reset_parameters()\n",
        "\n",
        "    def forward(self, x_i, x_j):\n",
        "        # x_i and x_j are both of shape (E, D)\n",
        "        x = x_i * x_j\n",
        "        for lin in self.lins[:-1]:\n",
        "            x = lin(x)\n",
        "            x = F.relu(x)\n",
        "            x = F.dropout(x, p=self.dropout, training=self.training)\n",
        "        x = self.lins[-1](x)\n",
        "        return torch.sigmoid(x)"
      ]
    },
    {
      "cell_type": "code",
      "execution_count": null,
      "metadata": {
        "id": "NsbEGlg1HVtr"
      },
      "outputs": [],
      "source": [
        "a=[]\n",
        "loss_list=[]\n",
        "def train(model, link_predictor, emb, edge_index, pos_train_edge, batch_size, optimizer):\n",
        "    global a, loss_list\n",
        "    mod=model.train()\n",
        "    lin=link_predictor.train()\n",
        "    print(mod)\n",
        "    print(lin)\n",
        "    train_losses = []\n",
        "\n",
        "    for edge_id in tqdm(pyg.loader.DataLoader(range(pos_train_edge.shape[0]), batch_size, shuffle=True), leave=True):\n",
        "        optimizer.zero_grad()\n",
        "\n",
        "        # Run message passing on the inital node embeddings to get updated embeddings\n",
        "        node_emb = model(emb, edge_index)  # (N, d)\n",
        "\n",
        "        # Predict the class probabilities on the batch of positive edges using link_predictor\n",
        "        pos_edge = pos_train_edge[edge_id].T  # (2, B)\n",
        "        pos_pred = link_predictor(node_emb[pos_edge[0]], node_emb[pos_edge[1]])  # (B, )\n",
        "\n",
        "        # Sample negative edges (same number as number of positive edges) and predict class probabilities\n",
        "        neg_edge = negative_sampling(edge_index, num_nodes=emb.shape[0],\n",
        "                                     num_neg_samples=edge_id.shape[0], method='dense')  # (Ne,2)\n",
        "        neg_pred = link_predictor(node_emb[neg_edge[0]], node_emb[neg_edge[1]])  # (Ne,)\n",
        "\n",
        "        # Compute the corresponding negative log likelihood loss on the positive and negative edges\n",
        "        loss = -torch.log(pos_pred + 1e-15).mean() - torch.log(1 - neg_pred + 1e-15).mean()\n",
        "\n",
        "        # Backpropagate and update parameters\n",
        "        loss.backward()\n",
        "        optimizer.step()\n",
        "\n",
        "        train_losses.append(loss.item())\n",
        "        num = sum([1 for x in train_losses])\n",
        "        loss_list.append(sum(train_losses)/num)\n",
        "\n",
        "    return train_losses"
      ]
    },
    {
      "cell_type": "code",
      "execution_count": null,
      "metadata": {
        "id": "plQJXZDpcQyy"
      },
      "outputs": [],
      "source": [
        "# !pip install GPUtil\n",
        "\n",
        "# from GPUtil import showUtilization as gpu_usage\n",
        "# gpu_usage()\n",
        "\n",
        "\n"
      ]
    },
    {
      "cell_type": "code",
      "execution_count": null,
      "metadata": {
        "id": "DBQ_q6N8HVz-",
        "colab": {
          "base_uri": "https://localhost:8080/",
          "height": 518,
          "referenced_widgets": [
            "b58bd038444c4bb5b8a6299992d2ff8b",
            "7a7484640bcc48aa86d527c1284b65ad",
            "97b982f3a2f7478cba4018505a2c4949",
            "959f600f4b224271b74abf581551789f",
            "a450ae2ff9114ec3b7e1b1af149c8618",
            "8381e2b193ee4079a1a9d6772468bc4f",
            "63761c5b366f40b4a986839550293578",
            "a9a14edf615646358474341ce2a016e2",
            "3477df2f598c43cfb77a74f989002366",
            "95849635f279411498d91bde39d9362c",
            "9961714aa2d9466db0848d50353dd0de"
          ]
        },
        "outputId": "673e93e7-7351-4b00-fb72-18d9fc8789f8"
      },
      "outputs": [
        {
          "output_type": "stream",
          "name": "stdout",
          "text": [
            "GNNStack(\n",
            "  (convs): ModuleList(\n",
            "    (0): SAGEConv(1, 256, aggr=mean)\n",
            "    (1): SAGEConv(256, 256, aggr=mean)\n",
            "    (2): SAGEConv(256, 256, aggr=mean)\n",
            "    (3): SAGEConv(256, 256, aggr=mean)\n",
            "    (4): SAGEConv(256, 256, aggr=mean)\n",
            "    (5): SAGEConv(256, 256, aggr=mean)\n",
            "  )\n",
            "  (post_mp): Sequential(\n",
            "    (0): Linear(in_features=256, out_features=256, bias=True)\n",
            "    (1): Dropout(p=0.3, inplace=False)\n",
            "    (2): Linear(in_features=256, out_features=256, bias=True)\n",
            "  )\n",
            ")\n",
            "LinkPredictor(\n",
            "  (lins): ModuleList(\n",
            "    (0): Linear(in_features=256, out_features=256, bias=True)\n",
            "    (1): Linear(in_features=256, out_features=256, bias=True)\n",
            "    (2): Linear(in_features=256, out_features=256, bias=True)\n",
            "    (3): Linear(in_features=256, out_features=256, bias=True)\n",
            "    (4): Linear(in_features=256, out_features=256, bias=True)\n",
            "    (5): Linear(in_features=256, out_features=256, bias=True)\n",
            "    (6): Linear(in_features=256, out_features=1, bias=True)\n",
            "  )\n",
            ")\n"
          ]
        },
        {
          "output_type": "display_data",
          "data": {
            "text/plain": [
              "  0%|          | 0/3 [00:00<?, ?it/s]"
            ],
            "application/vnd.jupyter.widget-view+json": {
              "version_major": 2,
              "version_minor": 0,
              "model_id": "b58bd038444c4bb5b8a6299992d2ff8b"
            }
          },
          "metadata": {}
        },
        {
          "output_type": "execute_result",
          "data": {
            "text/plain": [
              "1.386631687482198"
            ]
          },
          "metadata": {},
          "execution_count": 73
        }
      ],
      "source": [
        "import matplotlib.pyplot as plt\n",
        "train_graph = train_data\n",
        "val_graph = val_data\n",
        "\n",
        "\n",
        "\n",
        "device = torch.device('cuda' if torch.cuda.is_available() else 'cpu')\n",
        "optim_wd = 0\n",
        "epochs = 400\n",
        "hidden_dim = 256\n",
        "dropout = 0.3\n",
        "num_layers = 6\n",
        "lr = 1e-5\n",
        "node_emb_dim = 1\n",
        "batch_size = 256\n",
        "\n",
        "\n",
        "train_graph = train_graph.to(device)\n",
        "val_graph = val_graph.to(device)\n",
        "\n",
        "\n",
        "\n",
        "\n",
        "model = GNNStack(node_emb_dim, hidden_dim, hidden_dim, num_layers, dropout).to(device) # the graph neural network that takes all the node embeddings as inputs to message pass and agregate\n",
        "link_predictor = LinkPredictor(hidden_dim, hidden_dim, 1, num_layers + 1, dropout).to(device)\n",
        "\n",
        "\n",
        "optimizer = torch.optim.Adam(\n",
        "    list(model.parameters()) + list(link_predictor.parameters()),\n",
        "    lr=lr, weight_decay=optim_wd\n",
        ")\n",
        "\n",
        "# x=[]\n",
        "# y=[]\n",
        "\n",
        "# print(train_graph.edge_index)\n",
        "# for epoch in range(100):\n",
        "train_loss = train(model, link_predictor, torch.tensor(train_graph.x).float().to(device), train_graph.edge_index, train_graph.pos_edge_label_index.T, batch_size, optimizer)\n",
        "\n",
        "num = sum([1 for x in train_loss])\n",
        "train_lossess = sum(train_loss)/num\n",
        "train_lossess\n",
        "# \t\tprint(train_loss)\n",
        "\n",
        "# \t\tx.append(train_loss[0])\n",
        "# \t\ty.append(train_loss[1])\n",
        "# \t\ttrain_loss[0],train_loss[1]\n",
        "# print(x),print(y)\n",
        "# plt.plot(x, y)\n",
        "# plt.show()\n",
        "# gpu_usage()\n"
      ]
    },
    {
      "cell_type": "code",
      "execution_count": null,
      "metadata": {
        "id": "ZAubc8s7Esee",
        "colab": {
          "base_uri": "https://localhost:8080/"
        },
        "outputId": "7dbdb167-9cda-4611-aeb0-381469c14b6d"
      },
      "outputs": [
        {
          "output_type": "execute_result",
          "data": {
            "text/plain": [
              "[1.3862192630767822, 1.386811375617981, 1.386864423751831]"
            ]
          },
          "metadata": {},
          "execution_count": 74
        }
      ],
      "source": [
        "train_loss"
      ]
    },
    {
      "cell_type": "code",
      "execution_count": null,
      "metadata": {
        "id": "MSWjbaeZ25BX",
        "colab": {
          "base_uri": "https://localhost:8080/"
        },
        "outputId": "e897f3dd-c077-4cb5-f733-e0ff1a3f52ee"
      },
      "outputs": [
        {
          "output_type": "execute_result",
          "data": {
            "text/plain": [
              "torch.Size([2, 1910])"
            ]
          },
          "metadata": {},
          "execution_count": 75
        }
      ],
      "source": [
        "edge_index.shape"
      ]
    },
    {
      "cell_type": "code",
      "execution_count": null,
      "metadata": {
        "id": "GrfYfPVd7hvg",
        "colab": {
          "base_uri": "https://localhost:8080/"
        },
        "outputId": "8fdb595d-ad8e-49e5-8813-eba17d563ab4"
      },
      "outputs": [
        {
          "output_type": "execute_result",
          "data": {
            "text/plain": [
              "[]"
            ]
          },
          "metadata": {},
          "execution_count": 76
        }
      ],
      "source": [
        "a"
      ]
    },
    {
      "cell_type": "code",
      "execution_count": null,
      "metadata": {
        "id": "Y-VDUcmETysD"
      },
      "outputs": [],
      "source": [
        "\n",
        "# mask = np.zeros(graph.x.shape[0])\n",
        "# mask[100:150] = 1\n",
        "# mask = torch.tensor(mask == 1)\n",
        "# g = Data(x=graph.x[mask], edge_index=utils.subgraph(mask, graph.edge_index)[0])\n",
        "# g.edge_index = g.edge_index - 100\n",
        "\n",
        "\n",
        "# model = GNNStack(node_emb_dim, hidden_dim, hidden_dim, num_layers, dropout).to(device) # the graph neural network that takes all the node embeddings as inputs to message pass and agregate\n",
        "# link_predictor = LinkPredictor(hidden_dim, hidden_dim, 1, num_layers + 1, dropout).to(device)\n",
        "\n",
        "# print(type(torch.tensor(g.x).cuda()))\n",
        "# print(type(torch.tensor(g.edge_index).contiguous().cuda()))\n",
        "# node_emb = model(torch.tensor(g.x).cuda(), torch.tensor(g.edge_index).contiguous().cuda())\n",
        "\n"
      ]
    },
    {
      "cell_type": "code",
      "source": [
        "!pip install wandb\n"
      ],
      "metadata": {
        "colab": {
          "base_uri": "https://localhost:8080/"
        },
        "id": "5Mz2g1QeTYB7",
        "outputId": "37920814-4468-4e47-fbd0-d022dcb3f0ac"
      },
      "execution_count": null,
      "outputs": [
        {
          "output_type": "stream",
          "name": "stdout",
          "text": [
            "Looking in indexes: https://pypi.org/simple, https://us-python.pkg.dev/colab-wheels/public/simple/\n",
            "Requirement already satisfied: wandb in /usr/local/lib/python3.8/dist-packages (0.13.9)\n",
            "Requirement already satisfied: requests<3,>=2.0.0 in /usr/local/lib/python3.8/dist-packages (from wandb) (2.25.1)\n",
            "Requirement already satisfied: GitPython>=1.0.0 in /usr/local/lib/python3.8/dist-packages (from wandb) (3.1.30)\n",
            "Requirement already satisfied: setproctitle in /usr/local/lib/python3.8/dist-packages (from wandb) (1.3.2)\n",
            "Requirement already satisfied: appdirs>=1.4.3 in /usr/local/lib/python3.8/dist-packages (from wandb) (1.4.4)\n",
            "Requirement already satisfied: psutil>=5.0.0 in /usr/local/lib/python3.8/dist-packages (from wandb) (5.9.4)\n",
            "Requirement already satisfied: sentry-sdk>=1.0.0 in /usr/local/lib/python3.8/dist-packages (from wandb) (1.14.0)\n",
            "Requirement already satisfied: docker-pycreds>=0.4.0 in /usr/local/lib/python3.8/dist-packages (from wandb) (0.4.0)\n",
            "Requirement already satisfied: pathtools in /usr/local/lib/python3.8/dist-packages (from wandb) (0.1.2)\n",
            "Requirement already satisfied: PyYAML in /usr/local/lib/python3.8/dist-packages (from wandb) (6.0)\n",
            "Requirement already satisfied: Click!=8.0.0,>=7.0 in /usr/local/lib/python3.8/dist-packages (from wandb) (7.1.2)\n",
            "Requirement already satisfied: typing-extensions in /usr/local/lib/python3.8/dist-packages (from wandb) (4.4.0)\n",
            "Requirement already satisfied: protobuf!=4.21.0,<5,>=3.12.0 in /usr/local/lib/python3.8/dist-packages (from wandb) (3.19.6)\n",
            "Requirement already satisfied: setuptools in /usr/local/lib/python3.8/dist-packages (from wandb) (57.4.0)\n",
            "Requirement already satisfied: six>=1.4.0 in /usr/local/lib/python3.8/dist-packages (from docker-pycreds>=0.4.0->wandb) (1.15.0)\n",
            "Requirement already satisfied: gitdb<5,>=4.0.1 in /usr/local/lib/python3.8/dist-packages (from GitPython>=1.0.0->wandb) (4.0.10)\n",
            "Requirement already satisfied: certifi>=2017.4.17 in /usr/local/lib/python3.8/dist-packages (from requests<3,>=2.0.0->wandb) (2022.12.7)\n",
            "Requirement already satisfied: urllib3<1.27,>=1.21.1 in /usr/local/lib/python3.8/dist-packages (from requests<3,>=2.0.0->wandb) (1.26.14)\n",
            "Requirement already satisfied: idna<3,>=2.5 in /usr/local/lib/python3.8/dist-packages (from requests<3,>=2.0.0->wandb) (2.10)\n",
            "Requirement already satisfied: chardet<5,>=3.0.2 in /usr/local/lib/python3.8/dist-packages (from requests<3,>=2.0.0->wandb) (4.0.0)\n",
            "Requirement already satisfied: smmap<6,>=3.0.1 in /usr/local/lib/python3.8/dist-packages (from gitdb<5,>=4.0.1->GitPython>=1.0.0->wandb) (5.0.0)\n"
          ]
        }
      ]
    },
    {
      "cell_type": "code",
      "source": [
        "import wandb"
      ],
      "metadata": {
        "id": "8KphXsL7Te8-"
      },
      "execution_count": null,
      "outputs": []
    },
    {
      "cell_type": "code",
      "source": [
        "# wandb.init(project=\"gnn-recommender\", job_type=\"preprocessing\", save_code=True)\n",
        "# file_path = wandb.use_artifact(\"manan-goel/gnn-recommender/raw-data:v0\").download()"
      ],
      "metadata": {
        "id": "9z-V_YZST-1g"
      },
      "execution_count": null,
      "outputs": []
    },
    {
      "cell_type": "code",
      "source": [
        "# wandb.init(project=\"gnn-recommender\", job_type=\"preprocessing\", save_code=True)\n",
        "# file_path = wandb.use_artifact(\"manan-goel/gnn-recommender/raw-data:v0\").download()\n",
        "# # with open(f'{file_path}/amazon0302.txt', 'r') as f:\n",
        "# #     edges = f.readlines()\n",
        "# #     print(edges)\n",
        "# #     idx = 0\n",
        "# #     edge_index = []\n",
        "# #     in_degrees = np.zeros((262111, 1))\n",
        "\n",
        "# #     while (idx) < len(edges):\n",
        "# #         print(f\"{idx}/{len(edges)}\", end='\\r')\n",
        "# #         line = edges[idx]\n",
        "# #         if line.startswith('#'):\n",
        "# #             idx += 1\n",
        "# #             continue\n",
        "# #         start, end = line.strip().split()\n",
        "# #         start, end = int(start), int(end)\n",
        "# #         in_degrees[end][0] += 1\n",
        "\n",
        "# #         edge_index.append([start, end])\n",
        "# #         idx += 1\n",
        "\n",
        "# #     edge_index = torch.tensor(edge_index).t().contiguous()\n",
        "# #     graph = Data(x=in_degrees, edge_index=edge_index)\n",
        "\n",
        "# graph_artifact = wandb.Artifact('amazon_product_graph', type='graph')\n",
        "# torch.save(graph, 'amazon0302.pt')\n",
        "# graph_artifact.add_file('amazon0302.pt')\n",
        "# wandb.log_artifact(graph_artifact)\n",
        "# wandb.finish()\n"
      ],
      "metadata": {
        "id": "n0UOVctTUFXb"
      },
      "execution_count": null,
      "outputs": []
    },
    {
      "cell_type": "code",
      "source": [],
      "metadata": {
        "id": "oufJFeblaXP9"
      },
      "execution_count": null,
      "outputs": []
    },
    {
      "cell_type": "code",
      "source": [],
      "metadata": {
        "id": "wq5c6V9oXoKi"
      },
      "execution_count": null,
      "outputs": []
    },
    {
      "cell_type": "code",
      "source": [
        "# import torch\n",
        "# import numpy as np\n",
        "# from torch_geometric.data import Data\n",
        "# from torch_geometric import utils\n",
        "# import wandb\n",
        "# from torch import nn\n",
        "# import torch_geometric as pyg\n",
        "# from torch.nn import functional as F\n",
        "# from tqdm.auto import trange\n",
        "# import pickle\n",
        "# from pyvis.network import Network\n",
        "\n",
        "\n",
        "\n",
        "\n",
        "# # with open('./metadata.pkl', 'rb') as f:\n",
        "# #     metadata = pickle.load(f)\n",
        "\n",
        "\n",
        "# graph = torch.load('amazon0302.pt')\n",
        "# mask = np.zeros(graph.x.shape[0])\n",
        "# mask[50000:55000] = 1\n",
        "# mask = torch.tensor(mask == 1)\n",
        "\n",
        "\n",
        "# g = Data(x=graph.x[mask], edge_index=utils.subgraph(mask, graph.edge_index)[0])\n",
        "# g.edge_index = g.edge_index - 50000\n",
        "\n",
        "\n",
        "# wandb.init(project='gnn-recommender', job_type='test')\n",
        "# model_dir = wandb.use_artifact('manan-goel/gnn-recommender/gnn-model-sentence-transformer:latest').download()\n",
        "# run = wandb.Api().run(\"manan-goel/gnn-recommender/3ca5rr0e\")\n",
        "\n",
        "\n",
        "# device = torch.device(\"cuda:0\")\n",
        "# optim_wd = run.config['optim_wd']\n",
        "# epochs = run.config['epochs']\n",
        "# hidden_dim = run.config['hidden_dim']\n",
        "# dropout = run.config['dropout']\n",
        "# num_layers = run.config['num_layers']\n",
        "# lr = run.config['lr']\n",
        "# node_emb_dim = run.config['node_embedding_dim']\n",
        "# batch_size = run.config['batch_size']\n",
        "\n",
        "\n",
        "# model = GNNStack(node_emb_dim, hidden_dim, hidden_dim, num_layers, dropout, emb=True).to(device) # the graph neural network that takes all the node embeddings as inputs to message pass and agregate\n",
        "# link_predictor = LinkPredictor(hidden_dim, hidden_dim, 1, num_layers + 1, dropout).to(device)\n",
        "\n",
        "\n",
        "# model.load_state_dict(torch.load(f'{model_dir}/graph_embeddings.tar'))\n",
        "# link_predictor.load_state_dict(torch.load(f'{model_dir}/link_predictor.tar'))\n",
        "\n",
        "\n",
        "# node_emb = model(torch.tensor(g.x).cuda(), torch.tensor(g.edge_index).contiguous().cuda())\n",
        "# act_conn = []\n",
        "\n",
        "\n",
        "# for i in trange(10):\n",
        "#     conn = []\n",
        "#     for j in trange(5000):\n",
        "#         if i == j:\n",
        "#             continue\n",
        "#         prob = link_predictor(node_emb[i], node_emb[j]).item()\n",
        "#         if prob > 0.9:\n",
        "#             conn.append([prob, 50000 + i, 50000 + j])\n",
        "#     conn.sort(key=lambda x: x[0])\n",
        "#     act_conn.extend(conn[:5])\n",
        "\n",
        "\n",
        "# net = Network(height=\"750px\", width=\"100%\", bgcolor=\"#222222\", font_color=\"white\")\n",
        "# for e in act_conn:\n",
        "#     src = e[1]\n",
        "#     # dst = e[2]\n",
        "\n",
        "#     # src_title = \"Title:\" + metadata[src]['title'] + \"\\n\\n\" + \"Categories:\\n\" + \"\\n\".join(list(metadata[src]['categories'])[:3])\n",
        "#     # dst_title = \"Title:\" + metadata[dst]['title'] + \"\\n\\n\" + \"Categories:\\n\" + \"\\n\".join(list(metadata[dst]['categories'])[:3])\n",
        "\n",
        "#     # net.add_node(dst, label=dst_title, title=dst_title)\n",
        "#     # net.add_node(src, label=src_title, title=src_title)\n",
        "#     net.add_edge(src, dst, value=e[0])\n",
        "\n",
        "\n",
        "# net.show('net.html')\n",
        "# wandb.log({'test/graph': wandb.Html('net.html')})\n",
        "# wandb.finish()\n"
      ],
      "metadata": {
        "id": "A3MhtatZWXT4"
      },
      "execution_count": null,
      "outputs": []
    },
    {
      "cell_type": "markdown",
      "source": [
        "run = wandb.Api().run(\"manan-goel/gnn-recommender/3ca5rr0e\")"
      ],
      "metadata": {
        "id": "j64NTtnQVQjS"
      }
    },
    {
      "cell_type": "code",
      "source": [
        "from tqdm.auto import trange\n",
        "mask = np.zeros(graph.x.shape[0])\n",
        "mask[50000:55000] = 1\n",
        "mask = torch.tensor(mask == 1)\n",
        "\n",
        "\n",
        "\n",
        "g = Data(x=graph.x[mask], edge_index=utils.subgraph(mask, graph.edge_index)[0])\n",
        "g.edge_index = g.edge_index - 50000\n",
        "\n",
        "\n",
        "\n",
        "\n",
        "device = torch.device('cuda' if torch.cuda.is_available() else 'cpu')\n",
        "optim_wd = 0\n",
        "epochs = 300\n",
        "hidden_dim = 1024\n",
        "dropout = 0.3\n",
        "num_layers = 2\n",
        "lr = 1e-5\n",
        "node_emb_dim = 1\n",
        "batch_size = 1024\n",
        "model = GNNStack(node_emb_dim, hidden_dim, hidden_dim, num_layers, dropout).to(device) # the graph neural network that takes all the node embeddings as inputs to message pass and agregate\n",
        "link_predictor = LinkPredictor(hidden_dim, hidden_dim, 1, num_layers + 1, dropout).to(device)\n",
        "\n",
        "\n",
        "# model.load_state_dict(torch.load(f'{model_dir}/graph_embeddings.tar'))\n",
        "# link_predictor.load_state_dict(torch.load(f'{model_dir}/link_predictor.tar'))\n",
        "\n",
        "\n",
        "node_emb = model(torch.tensor(g.x).cuda(), torch.tensor(g.edge_index).contiguous().device())\n",
        "act_conn = []\n",
        "\n",
        "\n",
        "for i in trange(10):\n",
        "    conn = []\n",
        "    for j in trange(5000):\n",
        "        if i == j:\n",
        "            continue\n",
        "        prob = link_predictor(node_emb[i], node_emb[j]).item()\n",
        "        if prob > 0.9:\n",
        "            conn.append([prob, 50000 + i, 50000 + j])\n",
        "    conn.sort(key=lambda x: x[0])\n",
        "    act_conn.extend(conn[:5])\n",
        "\n",
        "\n",
        "net = Network(height=\"750px\", width=\"100%\", bgcolor=\"#222222\", font_color=\"white\")\n",
        "for e in act_conn:\n",
        "    src = e[1]\n",
        "    dst = e[2]\n",
        "\n",
        "    net.add_node(dst)\n",
        "    net.add_node(src)\n",
        "    net.add_edge(src, dst, value=e[0])\n",
        "\n",
        "\n",
        "net.show('net.html')\n",
        "wandb.log({'test/graph': wandb.Html('net.html')})\n",
        "wandb.finish()\n"
      ],
      "metadata": {
        "colab": {
          "base_uri": "https://localhost:8080/",
          "height": 360
        },
        "id": "TRSjAFI1cG62",
        "outputId": "c28f6231-a5e4-47ba-c64d-2f9a14200415"
      },
      "execution_count": null,
      "outputs": [
        {
          "output_type": "error",
          "ename": "RuntimeError",
          "evalue": "ignored",
          "traceback": [
            "\u001b[0;31m---------------------------------------------------------------------------\u001b[0m",
            "\u001b[0;31mRuntimeError\u001b[0m                              Traceback (most recent call last)",
            "\u001b[0;32m<ipython-input-87-f68336228bf6>\u001b[0m in \u001b[0;36m<module>\u001b[0;34m\u001b[0m\n\u001b[1;32m     29\u001b[0m \u001b[0;34m\u001b[0m\u001b[0m\n\u001b[1;32m     30\u001b[0m \u001b[0;34m\u001b[0m\u001b[0m\n\u001b[0;32m---> 31\u001b[0;31m \u001b[0mnode_emb\u001b[0m \u001b[0;34m=\u001b[0m \u001b[0mmodel\u001b[0m\u001b[0;34m(\u001b[0m\u001b[0mtorch\u001b[0m\u001b[0;34m.\u001b[0m\u001b[0mtensor\u001b[0m\u001b[0;34m(\u001b[0m\u001b[0mg\u001b[0m\u001b[0;34m.\u001b[0m\u001b[0mx\u001b[0m\u001b[0;34m)\u001b[0m\u001b[0;34m.\u001b[0m\u001b[0mcuda\u001b[0m\u001b[0;34m(\u001b[0m\u001b[0;34m)\u001b[0m\u001b[0;34m,\u001b[0m \u001b[0mtorch\u001b[0m\u001b[0;34m.\u001b[0m\u001b[0mtensor\u001b[0m\u001b[0;34m(\u001b[0m\u001b[0mg\u001b[0m\u001b[0;34m.\u001b[0m\u001b[0medge_index\u001b[0m\u001b[0;34m)\u001b[0m\u001b[0;34m.\u001b[0m\u001b[0mcontiguous\u001b[0m\u001b[0;34m(\u001b[0m\u001b[0;34m)\u001b[0m\u001b[0;34m.\u001b[0m\u001b[0mdevice\u001b[0m\u001b[0;34m(\u001b[0m\u001b[0;34m)\u001b[0m\u001b[0;34m)\u001b[0m\u001b[0;34m\u001b[0m\u001b[0;34m\u001b[0m\u001b[0m\n\u001b[0m\u001b[1;32m     32\u001b[0m \u001b[0mact_conn\u001b[0m \u001b[0;34m=\u001b[0m \u001b[0;34m[\u001b[0m\u001b[0;34m]\u001b[0m\u001b[0;34m\u001b[0m\u001b[0;34m\u001b[0m\u001b[0m\n\u001b[1;32m     33\u001b[0m \u001b[0;34m\u001b[0m\u001b[0m\n",
            "\u001b[0;32m/usr/local/lib/python3.8/dist-packages/torch/cuda/__init__.py\u001b[0m in \u001b[0;36m_lazy_init\u001b[0;34m()\u001b[0m\n\u001b[1;32m    227\u001b[0m         \u001b[0;32mif\u001b[0m \u001b[0;34m'CUDA_MODULE_LOADING'\u001b[0m \u001b[0;32mnot\u001b[0m \u001b[0;32min\u001b[0m \u001b[0mos\u001b[0m\u001b[0;34m.\u001b[0m\u001b[0menviron\u001b[0m\u001b[0;34m:\u001b[0m\u001b[0;34m\u001b[0m\u001b[0;34m\u001b[0m\u001b[0m\n\u001b[1;32m    228\u001b[0m             \u001b[0mos\u001b[0m\u001b[0;34m.\u001b[0m\u001b[0menviron\u001b[0m\u001b[0;34m[\u001b[0m\u001b[0;34m'CUDA_MODULE_LOADING'\u001b[0m\u001b[0;34m]\u001b[0m \u001b[0;34m=\u001b[0m \u001b[0;34m'LAZY'\u001b[0m\u001b[0;34m\u001b[0m\u001b[0;34m\u001b[0m\u001b[0m\n\u001b[0;32m--> 229\u001b[0;31m         \u001b[0mtorch\u001b[0m\u001b[0;34m.\u001b[0m\u001b[0m_C\u001b[0m\u001b[0;34m.\u001b[0m\u001b[0m_cuda_init\u001b[0m\u001b[0;34m(\u001b[0m\u001b[0;34m)\u001b[0m\u001b[0;34m\u001b[0m\u001b[0;34m\u001b[0m\u001b[0m\n\u001b[0m\u001b[1;32m    230\u001b[0m         \u001b[0;31m# Some of the queued calls may reentrantly call _lazy_init();\u001b[0m\u001b[0;34m\u001b[0m\u001b[0;34m\u001b[0m\u001b[0;34m\u001b[0m\u001b[0m\n\u001b[1;32m    231\u001b[0m         \u001b[0;31m# we need to just return without initializing in that case.\u001b[0m\u001b[0;34m\u001b[0m\u001b[0;34m\u001b[0m\u001b[0;34m\u001b[0m\u001b[0m\n",
            "\u001b[0;31mRuntimeError\u001b[0m: No CUDA GPUs are available"
          ]
        }
      ]
    },
    {
      "cell_type": "code",
      "source": [],
      "metadata": {
        "id": "ZXUxREA-dNkk"
      },
      "execution_count": null,
      "outputs": []
    }
  ],
  "metadata": {
    "accelerator": "GPU",
    "colab": {
      "provenance": []
    },
    "gpuClass": "standard",
    "kernelspec": {
      "display_name": "Python 3",
      "name": "python3"
    },
    "language_info": {
      "name": "python"
    },
    "widgets": {
      "application/vnd.jupyter.widget-state+json": {
        "76e1b23134b743589bbd80df2a6ad705": {
          "model_module": "@jupyter-widgets/controls",
          "model_name": "HBoxModel",
          "model_module_version": "1.5.0",
          "state": {
            "_dom_classes": [],
            "_model_module": "@jupyter-widgets/controls",
            "_model_module_version": "1.5.0",
            "_model_name": "HBoxModel",
            "_view_count": null,
            "_view_module": "@jupyter-widgets/controls",
            "_view_module_version": "1.5.0",
            "_view_name": "HBoxView",
            "box_style": "",
            "children": [
              "IPY_MODEL_30df82ad80814b90aafbbe88c6e861f6",
              "IPY_MODEL_60aa1753c66541f1a9d19908a88aeac7",
              "IPY_MODEL_d7a45318dfbb435db246a0f860d2371d"
            ],
            "layout": "IPY_MODEL_c9740be3ed784721bf3d468d9df6c9ab"
          }
        },
        "30df82ad80814b90aafbbe88c6e861f6": {
          "model_module": "@jupyter-widgets/controls",
          "model_name": "HTMLModel",
          "model_module_version": "1.5.0",
          "state": {
            "_dom_classes": [],
            "_model_module": "@jupyter-widgets/controls",
            "_model_module_version": "1.5.0",
            "_model_name": "HTMLModel",
            "_view_count": null,
            "_view_module": "@jupyter-widgets/controls",
            "_view_module_version": "1.5.0",
            "_view_name": "HTMLView",
            "description": "",
            "description_tooltip": null,
            "layout": "IPY_MODEL_36d47d54a43844fb8c0ec34ae9ec9edd",
            "placeholder": "​",
            "style": "IPY_MODEL_3155312b38814db9b8c1c9bbbe4b87e0",
            "value": "100%"
          }
        },
        "60aa1753c66541f1a9d19908a88aeac7": {
          "model_module": "@jupyter-widgets/controls",
          "model_name": "FloatProgressModel",
          "model_module_version": "1.5.0",
          "state": {
            "_dom_classes": [],
            "_model_module": "@jupyter-widgets/controls",
            "_model_module_version": "1.5.0",
            "_model_name": "FloatProgressModel",
            "_view_count": null,
            "_view_module": "@jupyter-widgets/controls",
            "_view_module_version": "1.5.0",
            "_view_name": "ProgressView",
            "bar_style": "success",
            "description": "",
            "description_tooltip": null,
            "layout": "IPY_MODEL_2b2959a0afbe4c75821c0425bd421842",
            "max": 352,
            "min": 0,
            "orientation": "horizontal",
            "style": "IPY_MODEL_62059f60234d4eadbe23d10d4d2f6b98",
            "value": 352
          }
        },
        "d7a45318dfbb435db246a0f860d2371d": {
          "model_module": "@jupyter-widgets/controls",
          "model_name": "HTMLModel",
          "model_module_version": "1.5.0",
          "state": {
            "_dom_classes": [],
            "_model_module": "@jupyter-widgets/controls",
            "_model_module_version": "1.5.0",
            "_model_name": "HTMLModel",
            "_view_count": null,
            "_view_module": "@jupyter-widgets/controls",
            "_view_module_version": "1.5.0",
            "_view_name": "HTMLView",
            "description": "",
            "description_tooltip": null,
            "layout": "IPY_MODEL_89e0328227a7427c9a89b94a37ce5baa",
            "placeholder": "​",
            "style": "IPY_MODEL_62cc22f8443344d4ac785309d841b541",
            "value": " 352/352 [00:00&lt;00:00, 9178.14it/s]"
          }
        },
        "c9740be3ed784721bf3d468d9df6c9ab": {
          "model_module": "@jupyter-widgets/base",
          "model_name": "LayoutModel",
          "model_module_version": "1.2.0",
          "state": {
            "_model_module": "@jupyter-widgets/base",
            "_model_module_version": "1.2.0",
            "_model_name": "LayoutModel",
            "_view_count": null,
            "_view_module": "@jupyter-widgets/base",
            "_view_module_version": "1.2.0",
            "_view_name": "LayoutView",
            "align_content": null,
            "align_items": null,
            "align_self": null,
            "border": null,
            "bottom": null,
            "display": null,
            "flex": null,
            "flex_flow": null,
            "grid_area": null,
            "grid_auto_columns": null,
            "grid_auto_flow": null,
            "grid_auto_rows": null,
            "grid_column": null,
            "grid_gap": null,
            "grid_row": null,
            "grid_template_areas": null,
            "grid_template_columns": null,
            "grid_template_rows": null,
            "height": null,
            "justify_content": null,
            "justify_items": null,
            "left": null,
            "margin": null,
            "max_height": null,
            "max_width": null,
            "min_height": null,
            "min_width": null,
            "object_fit": null,
            "object_position": null,
            "order": null,
            "overflow": null,
            "overflow_x": null,
            "overflow_y": null,
            "padding": null,
            "right": null,
            "top": null,
            "visibility": null,
            "width": null
          }
        },
        "36d47d54a43844fb8c0ec34ae9ec9edd": {
          "model_module": "@jupyter-widgets/base",
          "model_name": "LayoutModel",
          "model_module_version": "1.2.0",
          "state": {
            "_model_module": "@jupyter-widgets/base",
            "_model_module_version": "1.2.0",
            "_model_name": "LayoutModel",
            "_view_count": null,
            "_view_module": "@jupyter-widgets/base",
            "_view_module_version": "1.2.0",
            "_view_name": "LayoutView",
            "align_content": null,
            "align_items": null,
            "align_self": null,
            "border": null,
            "bottom": null,
            "display": null,
            "flex": null,
            "flex_flow": null,
            "grid_area": null,
            "grid_auto_columns": null,
            "grid_auto_flow": null,
            "grid_auto_rows": null,
            "grid_column": null,
            "grid_gap": null,
            "grid_row": null,
            "grid_template_areas": null,
            "grid_template_columns": null,
            "grid_template_rows": null,
            "height": null,
            "justify_content": null,
            "justify_items": null,
            "left": null,
            "margin": null,
            "max_height": null,
            "max_width": null,
            "min_height": null,
            "min_width": null,
            "object_fit": null,
            "object_position": null,
            "order": null,
            "overflow": null,
            "overflow_x": null,
            "overflow_y": null,
            "padding": null,
            "right": null,
            "top": null,
            "visibility": null,
            "width": null
          }
        },
        "3155312b38814db9b8c1c9bbbe4b87e0": {
          "model_module": "@jupyter-widgets/controls",
          "model_name": "DescriptionStyleModel",
          "model_module_version": "1.5.0",
          "state": {
            "_model_module": "@jupyter-widgets/controls",
            "_model_module_version": "1.5.0",
            "_model_name": "DescriptionStyleModel",
            "_view_count": null,
            "_view_module": "@jupyter-widgets/base",
            "_view_module_version": "1.2.0",
            "_view_name": "StyleView",
            "description_width": ""
          }
        },
        "2b2959a0afbe4c75821c0425bd421842": {
          "model_module": "@jupyter-widgets/base",
          "model_name": "LayoutModel",
          "model_module_version": "1.2.0",
          "state": {
            "_model_module": "@jupyter-widgets/base",
            "_model_module_version": "1.2.0",
            "_model_name": "LayoutModel",
            "_view_count": null,
            "_view_module": "@jupyter-widgets/base",
            "_view_module_version": "1.2.0",
            "_view_name": "LayoutView",
            "align_content": null,
            "align_items": null,
            "align_self": null,
            "border": null,
            "bottom": null,
            "display": null,
            "flex": null,
            "flex_flow": null,
            "grid_area": null,
            "grid_auto_columns": null,
            "grid_auto_flow": null,
            "grid_auto_rows": null,
            "grid_column": null,
            "grid_gap": null,
            "grid_row": null,
            "grid_template_areas": null,
            "grid_template_columns": null,
            "grid_template_rows": null,
            "height": null,
            "justify_content": null,
            "justify_items": null,
            "left": null,
            "margin": null,
            "max_height": null,
            "max_width": null,
            "min_height": null,
            "min_width": null,
            "object_fit": null,
            "object_position": null,
            "order": null,
            "overflow": null,
            "overflow_x": null,
            "overflow_y": null,
            "padding": null,
            "right": null,
            "top": null,
            "visibility": null,
            "width": null
          }
        },
        "62059f60234d4eadbe23d10d4d2f6b98": {
          "model_module": "@jupyter-widgets/controls",
          "model_name": "ProgressStyleModel",
          "model_module_version": "1.5.0",
          "state": {
            "_model_module": "@jupyter-widgets/controls",
            "_model_module_version": "1.5.0",
            "_model_name": "ProgressStyleModel",
            "_view_count": null,
            "_view_module": "@jupyter-widgets/base",
            "_view_module_version": "1.2.0",
            "_view_name": "StyleView",
            "bar_color": null,
            "description_width": ""
          }
        },
        "89e0328227a7427c9a89b94a37ce5baa": {
          "model_module": "@jupyter-widgets/base",
          "model_name": "LayoutModel",
          "model_module_version": "1.2.0",
          "state": {
            "_model_module": "@jupyter-widgets/base",
            "_model_module_version": "1.2.0",
            "_model_name": "LayoutModel",
            "_view_count": null,
            "_view_module": "@jupyter-widgets/base",
            "_view_module_version": "1.2.0",
            "_view_name": "LayoutView",
            "align_content": null,
            "align_items": null,
            "align_self": null,
            "border": null,
            "bottom": null,
            "display": null,
            "flex": null,
            "flex_flow": null,
            "grid_area": null,
            "grid_auto_columns": null,
            "grid_auto_flow": null,
            "grid_auto_rows": null,
            "grid_column": null,
            "grid_gap": null,
            "grid_row": null,
            "grid_template_areas": null,
            "grid_template_columns": null,
            "grid_template_rows": null,
            "height": null,
            "justify_content": null,
            "justify_items": null,
            "left": null,
            "margin": null,
            "max_height": null,
            "max_width": null,
            "min_height": null,
            "min_width": null,
            "object_fit": null,
            "object_position": null,
            "order": null,
            "overflow": null,
            "overflow_x": null,
            "overflow_y": null,
            "padding": null,
            "right": null,
            "top": null,
            "visibility": null,
            "width": null
          }
        },
        "62cc22f8443344d4ac785309d841b541": {
          "model_module": "@jupyter-widgets/controls",
          "model_name": "DescriptionStyleModel",
          "model_module_version": "1.5.0",
          "state": {
            "_model_module": "@jupyter-widgets/controls",
            "_model_module_version": "1.5.0",
            "_model_name": "DescriptionStyleModel",
            "_view_count": null,
            "_view_module": "@jupyter-widgets/base",
            "_view_module_version": "1.2.0",
            "_view_name": "StyleView",
            "description_width": ""
          }
        },
        "c143d8decdc64114a03021cfcb7faa7f": {
          "model_module": "@jupyter-widgets/controls",
          "model_name": "HBoxModel",
          "model_module_version": "1.5.0",
          "state": {
            "_dom_classes": [],
            "_model_module": "@jupyter-widgets/controls",
            "_model_module_version": "1.5.0",
            "_model_name": "HBoxModel",
            "_view_count": null,
            "_view_module": "@jupyter-widgets/controls",
            "_view_module_version": "1.5.0",
            "_view_name": "HBoxView",
            "box_style": "",
            "children": [
              "IPY_MODEL_90e81fb1e69542f4be9cbea6a57eda56",
              "IPY_MODEL_f969377f343943e0939c5463db9af1cd",
              "IPY_MODEL_6639b3a2aa0e4850a695f8d6d82f2db2"
            ],
            "layout": "IPY_MODEL_602f565652434c1aa3016d30f0293dee"
          }
        },
        "90e81fb1e69542f4be9cbea6a57eda56": {
          "model_module": "@jupyter-widgets/controls",
          "model_name": "HTMLModel",
          "model_module_version": "1.5.0",
          "state": {
            "_dom_classes": [],
            "_model_module": "@jupyter-widgets/controls",
            "_model_module_version": "1.5.0",
            "_model_name": "HTMLModel",
            "_view_count": null,
            "_view_module": "@jupyter-widgets/controls",
            "_view_module_version": "1.5.0",
            "_view_name": "HTMLView",
            "description": "",
            "description_tooltip": null,
            "layout": "IPY_MODEL_ade966ae93e1462296a65147303228fd",
            "placeholder": "​",
            "style": "IPY_MODEL_c7224034e0a5422b874030eb8d341bfc",
            "value": "100%"
          }
        },
        "f969377f343943e0939c5463db9af1cd": {
          "model_module": "@jupyter-widgets/controls",
          "model_name": "FloatProgressModel",
          "model_module_version": "1.5.0",
          "state": {
            "_dom_classes": [],
            "_model_module": "@jupyter-widgets/controls",
            "_model_module_version": "1.5.0",
            "_model_name": "FloatProgressModel",
            "_view_count": null,
            "_view_module": "@jupyter-widgets/controls",
            "_view_module_version": "1.5.0",
            "_view_name": "ProgressView",
            "bar_style": "success",
            "description": "",
            "description_tooltip": null,
            "layout": "IPY_MODEL_b045f788405b42b2a45c8cdfd8b70ce0",
            "max": 352,
            "min": 0,
            "orientation": "horizontal",
            "style": "IPY_MODEL_bafb4f7cf89547589dc5fcf834708613",
            "value": 352
          }
        },
        "6639b3a2aa0e4850a695f8d6d82f2db2": {
          "model_module": "@jupyter-widgets/controls",
          "model_name": "HTMLModel",
          "model_module_version": "1.5.0",
          "state": {
            "_dom_classes": [],
            "_model_module": "@jupyter-widgets/controls",
            "_model_module_version": "1.5.0",
            "_model_name": "HTMLModel",
            "_view_count": null,
            "_view_module": "@jupyter-widgets/controls",
            "_view_module_version": "1.5.0",
            "_view_name": "HTMLView",
            "description": "",
            "description_tooltip": null,
            "layout": "IPY_MODEL_1487a8c78dd444efbed48113d1c04b78",
            "placeholder": "​",
            "style": "IPY_MODEL_7087e674a514411e94fe5ffa5941c431",
            "value": " 352/352 [00:00&lt;00:00, 10976.91it/s]"
          }
        },
        "602f565652434c1aa3016d30f0293dee": {
          "model_module": "@jupyter-widgets/base",
          "model_name": "LayoutModel",
          "model_module_version": "1.2.0",
          "state": {
            "_model_module": "@jupyter-widgets/base",
            "_model_module_version": "1.2.0",
            "_model_name": "LayoutModel",
            "_view_count": null,
            "_view_module": "@jupyter-widgets/base",
            "_view_module_version": "1.2.0",
            "_view_name": "LayoutView",
            "align_content": null,
            "align_items": null,
            "align_self": null,
            "border": null,
            "bottom": null,
            "display": null,
            "flex": null,
            "flex_flow": null,
            "grid_area": null,
            "grid_auto_columns": null,
            "grid_auto_flow": null,
            "grid_auto_rows": null,
            "grid_column": null,
            "grid_gap": null,
            "grid_row": null,
            "grid_template_areas": null,
            "grid_template_columns": null,
            "grid_template_rows": null,
            "height": null,
            "justify_content": null,
            "justify_items": null,
            "left": null,
            "margin": null,
            "max_height": null,
            "max_width": null,
            "min_height": null,
            "min_width": null,
            "object_fit": null,
            "object_position": null,
            "order": null,
            "overflow": null,
            "overflow_x": null,
            "overflow_y": null,
            "padding": null,
            "right": null,
            "top": null,
            "visibility": null,
            "width": null
          }
        },
        "ade966ae93e1462296a65147303228fd": {
          "model_module": "@jupyter-widgets/base",
          "model_name": "LayoutModel",
          "model_module_version": "1.2.0",
          "state": {
            "_model_module": "@jupyter-widgets/base",
            "_model_module_version": "1.2.0",
            "_model_name": "LayoutModel",
            "_view_count": null,
            "_view_module": "@jupyter-widgets/base",
            "_view_module_version": "1.2.0",
            "_view_name": "LayoutView",
            "align_content": null,
            "align_items": null,
            "align_self": null,
            "border": null,
            "bottom": null,
            "display": null,
            "flex": null,
            "flex_flow": null,
            "grid_area": null,
            "grid_auto_columns": null,
            "grid_auto_flow": null,
            "grid_auto_rows": null,
            "grid_column": null,
            "grid_gap": null,
            "grid_row": null,
            "grid_template_areas": null,
            "grid_template_columns": null,
            "grid_template_rows": null,
            "height": null,
            "justify_content": null,
            "justify_items": null,
            "left": null,
            "margin": null,
            "max_height": null,
            "max_width": null,
            "min_height": null,
            "min_width": null,
            "object_fit": null,
            "object_position": null,
            "order": null,
            "overflow": null,
            "overflow_x": null,
            "overflow_y": null,
            "padding": null,
            "right": null,
            "top": null,
            "visibility": null,
            "width": null
          }
        },
        "c7224034e0a5422b874030eb8d341bfc": {
          "model_module": "@jupyter-widgets/controls",
          "model_name": "DescriptionStyleModel",
          "model_module_version": "1.5.0",
          "state": {
            "_model_module": "@jupyter-widgets/controls",
            "_model_module_version": "1.5.0",
            "_model_name": "DescriptionStyleModel",
            "_view_count": null,
            "_view_module": "@jupyter-widgets/base",
            "_view_module_version": "1.2.0",
            "_view_name": "StyleView",
            "description_width": ""
          }
        },
        "b045f788405b42b2a45c8cdfd8b70ce0": {
          "model_module": "@jupyter-widgets/base",
          "model_name": "LayoutModel",
          "model_module_version": "1.2.0",
          "state": {
            "_model_module": "@jupyter-widgets/base",
            "_model_module_version": "1.2.0",
            "_model_name": "LayoutModel",
            "_view_count": null,
            "_view_module": "@jupyter-widgets/base",
            "_view_module_version": "1.2.0",
            "_view_name": "LayoutView",
            "align_content": null,
            "align_items": null,
            "align_self": null,
            "border": null,
            "bottom": null,
            "display": null,
            "flex": null,
            "flex_flow": null,
            "grid_area": null,
            "grid_auto_columns": null,
            "grid_auto_flow": null,
            "grid_auto_rows": null,
            "grid_column": null,
            "grid_gap": null,
            "grid_row": null,
            "grid_template_areas": null,
            "grid_template_columns": null,
            "grid_template_rows": null,
            "height": null,
            "justify_content": null,
            "justify_items": null,
            "left": null,
            "margin": null,
            "max_height": null,
            "max_width": null,
            "min_height": null,
            "min_width": null,
            "object_fit": null,
            "object_position": null,
            "order": null,
            "overflow": null,
            "overflow_x": null,
            "overflow_y": null,
            "padding": null,
            "right": null,
            "top": null,
            "visibility": null,
            "width": null
          }
        },
        "bafb4f7cf89547589dc5fcf834708613": {
          "model_module": "@jupyter-widgets/controls",
          "model_name": "ProgressStyleModel",
          "model_module_version": "1.5.0",
          "state": {
            "_model_module": "@jupyter-widgets/controls",
            "_model_module_version": "1.5.0",
            "_model_name": "ProgressStyleModel",
            "_view_count": null,
            "_view_module": "@jupyter-widgets/base",
            "_view_module_version": "1.2.0",
            "_view_name": "StyleView",
            "bar_color": null,
            "description_width": ""
          }
        },
        "1487a8c78dd444efbed48113d1c04b78": {
          "model_module": "@jupyter-widgets/base",
          "model_name": "LayoutModel",
          "model_module_version": "1.2.0",
          "state": {
            "_model_module": "@jupyter-widgets/base",
            "_model_module_version": "1.2.0",
            "_model_name": "LayoutModel",
            "_view_count": null,
            "_view_module": "@jupyter-widgets/base",
            "_view_module_version": "1.2.0",
            "_view_name": "LayoutView",
            "align_content": null,
            "align_items": null,
            "align_self": null,
            "border": null,
            "bottom": null,
            "display": null,
            "flex": null,
            "flex_flow": null,
            "grid_area": null,
            "grid_auto_columns": null,
            "grid_auto_flow": null,
            "grid_auto_rows": null,
            "grid_column": null,
            "grid_gap": null,
            "grid_row": null,
            "grid_template_areas": null,
            "grid_template_columns": null,
            "grid_template_rows": null,
            "height": null,
            "justify_content": null,
            "justify_items": null,
            "left": null,
            "margin": null,
            "max_height": null,
            "max_width": null,
            "min_height": null,
            "min_width": null,
            "object_fit": null,
            "object_position": null,
            "order": null,
            "overflow": null,
            "overflow_x": null,
            "overflow_y": null,
            "padding": null,
            "right": null,
            "top": null,
            "visibility": null,
            "width": null
          }
        },
        "7087e674a514411e94fe5ffa5941c431": {
          "model_module": "@jupyter-widgets/controls",
          "model_name": "DescriptionStyleModel",
          "model_module_version": "1.5.0",
          "state": {
            "_model_module": "@jupyter-widgets/controls",
            "_model_module_version": "1.5.0",
            "_model_name": "DescriptionStyleModel",
            "_view_count": null,
            "_view_module": "@jupyter-widgets/base",
            "_view_module_version": "1.2.0",
            "_view_name": "StyleView",
            "description_width": ""
          }
        },
        "b58bd038444c4bb5b8a6299992d2ff8b": {
          "model_module": "@jupyter-widgets/controls",
          "model_name": "HBoxModel",
          "model_module_version": "1.5.0",
          "state": {
            "_dom_classes": [],
            "_model_module": "@jupyter-widgets/controls",
            "_model_module_version": "1.5.0",
            "_model_name": "HBoxModel",
            "_view_count": null,
            "_view_module": "@jupyter-widgets/controls",
            "_view_module_version": "1.5.0",
            "_view_name": "HBoxView",
            "box_style": "",
            "children": [
              "IPY_MODEL_7a7484640bcc48aa86d527c1284b65ad",
              "IPY_MODEL_97b982f3a2f7478cba4018505a2c4949",
              "IPY_MODEL_959f600f4b224271b74abf581551789f"
            ],
            "layout": "IPY_MODEL_a450ae2ff9114ec3b7e1b1af149c8618"
          }
        },
        "7a7484640bcc48aa86d527c1284b65ad": {
          "model_module": "@jupyter-widgets/controls",
          "model_name": "HTMLModel",
          "model_module_version": "1.5.0",
          "state": {
            "_dom_classes": [],
            "_model_module": "@jupyter-widgets/controls",
            "_model_module_version": "1.5.0",
            "_model_name": "HTMLModel",
            "_view_count": null,
            "_view_module": "@jupyter-widgets/controls",
            "_view_module_version": "1.5.0",
            "_view_name": "HTMLView",
            "description": "",
            "description_tooltip": null,
            "layout": "IPY_MODEL_8381e2b193ee4079a1a9d6772468bc4f",
            "placeholder": "​",
            "style": "IPY_MODEL_63761c5b366f40b4a986839550293578",
            "value": "100%"
          }
        },
        "97b982f3a2f7478cba4018505a2c4949": {
          "model_module": "@jupyter-widgets/controls",
          "model_name": "FloatProgressModel",
          "model_module_version": "1.5.0",
          "state": {
            "_dom_classes": [],
            "_model_module": "@jupyter-widgets/controls",
            "_model_module_version": "1.5.0",
            "_model_name": "FloatProgressModel",
            "_view_count": null,
            "_view_module": "@jupyter-widgets/controls",
            "_view_module_version": "1.5.0",
            "_view_name": "ProgressView",
            "bar_style": "success",
            "description": "",
            "description_tooltip": null,
            "layout": "IPY_MODEL_a9a14edf615646358474341ce2a016e2",
            "max": 3,
            "min": 0,
            "orientation": "horizontal",
            "style": "IPY_MODEL_3477df2f598c43cfb77a74f989002366",
            "value": 3
          }
        },
        "959f600f4b224271b74abf581551789f": {
          "model_module": "@jupyter-widgets/controls",
          "model_name": "HTMLModel",
          "model_module_version": "1.5.0",
          "state": {
            "_dom_classes": [],
            "_model_module": "@jupyter-widgets/controls",
            "_model_module_version": "1.5.0",
            "_model_name": "HTMLModel",
            "_view_count": null,
            "_view_module": "@jupyter-widgets/controls",
            "_view_module_version": "1.5.0",
            "_view_name": "HTMLView",
            "description": "",
            "description_tooltip": null,
            "layout": "IPY_MODEL_95849635f279411498d91bde39d9362c",
            "placeholder": "​",
            "style": "IPY_MODEL_9961714aa2d9466db0848d50353dd0de",
            "value": " 3/3 [00:00&lt;00:00,  4.26it/s]"
          }
        },
        "a450ae2ff9114ec3b7e1b1af149c8618": {
          "model_module": "@jupyter-widgets/base",
          "model_name": "LayoutModel",
          "model_module_version": "1.2.0",
          "state": {
            "_model_module": "@jupyter-widgets/base",
            "_model_module_version": "1.2.0",
            "_model_name": "LayoutModel",
            "_view_count": null,
            "_view_module": "@jupyter-widgets/base",
            "_view_module_version": "1.2.0",
            "_view_name": "LayoutView",
            "align_content": null,
            "align_items": null,
            "align_self": null,
            "border": null,
            "bottom": null,
            "display": null,
            "flex": null,
            "flex_flow": null,
            "grid_area": null,
            "grid_auto_columns": null,
            "grid_auto_flow": null,
            "grid_auto_rows": null,
            "grid_column": null,
            "grid_gap": null,
            "grid_row": null,
            "grid_template_areas": null,
            "grid_template_columns": null,
            "grid_template_rows": null,
            "height": null,
            "justify_content": null,
            "justify_items": null,
            "left": null,
            "margin": null,
            "max_height": null,
            "max_width": null,
            "min_height": null,
            "min_width": null,
            "object_fit": null,
            "object_position": null,
            "order": null,
            "overflow": null,
            "overflow_x": null,
            "overflow_y": null,
            "padding": null,
            "right": null,
            "top": null,
            "visibility": null,
            "width": null
          }
        },
        "8381e2b193ee4079a1a9d6772468bc4f": {
          "model_module": "@jupyter-widgets/base",
          "model_name": "LayoutModel",
          "model_module_version": "1.2.0",
          "state": {
            "_model_module": "@jupyter-widgets/base",
            "_model_module_version": "1.2.0",
            "_model_name": "LayoutModel",
            "_view_count": null,
            "_view_module": "@jupyter-widgets/base",
            "_view_module_version": "1.2.0",
            "_view_name": "LayoutView",
            "align_content": null,
            "align_items": null,
            "align_self": null,
            "border": null,
            "bottom": null,
            "display": null,
            "flex": null,
            "flex_flow": null,
            "grid_area": null,
            "grid_auto_columns": null,
            "grid_auto_flow": null,
            "grid_auto_rows": null,
            "grid_column": null,
            "grid_gap": null,
            "grid_row": null,
            "grid_template_areas": null,
            "grid_template_columns": null,
            "grid_template_rows": null,
            "height": null,
            "justify_content": null,
            "justify_items": null,
            "left": null,
            "margin": null,
            "max_height": null,
            "max_width": null,
            "min_height": null,
            "min_width": null,
            "object_fit": null,
            "object_position": null,
            "order": null,
            "overflow": null,
            "overflow_x": null,
            "overflow_y": null,
            "padding": null,
            "right": null,
            "top": null,
            "visibility": null,
            "width": null
          }
        },
        "63761c5b366f40b4a986839550293578": {
          "model_module": "@jupyter-widgets/controls",
          "model_name": "DescriptionStyleModel",
          "model_module_version": "1.5.0",
          "state": {
            "_model_module": "@jupyter-widgets/controls",
            "_model_module_version": "1.5.0",
            "_model_name": "DescriptionStyleModel",
            "_view_count": null,
            "_view_module": "@jupyter-widgets/base",
            "_view_module_version": "1.2.0",
            "_view_name": "StyleView",
            "description_width": ""
          }
        },
        "a9a14edf615646358474341ce2a016e2": {
          "model_module": "@jupyter-widgets/base",
          "model_name": "LayoutModel",
          "model_module_version": "1.2.0",
          "state": {
            "_model_module": "@jupyter-widgets/base",
            "_model_module_version": "1.2.0",
            "_model_name": "LayoutModel",
            "_view_count": null,
            "_view_module": "@jupyter-widgets/base",
            "_view_module_version": "1.2.0",
            "_view_name": "LayoutView",
            "align_content": null,
            "align_items": null,
            "align_self": null,
            "border": null,
            "bottom": null,
            "display": null,
            "flex": null,
            "flex_flow": null,
            "grid_area": null,
            "grid_auto_columns": null,
            "grid_auto_flow": null,
            "grid_auto_rows": null,
            "grid_column": null,
            "grid_gap": null,
            "grid_row": null,
            "grid_template_areas": null,
            "grid_template_columns": null,
            "grid_template_rows": null,
            "height": null,
            "justify_content": null,
            "justify_items": null,
            "left": null,
            "margin": null,
            "max_height": null,
            "max_width": null,
            "min_height": null,
            "min_width": null,
            "object_fit": null,
            "object_position": null,
            "order": null,
            "overflow": null,
            "overflow_x": null,
            "overflow_y": null,
            "padding": null,
            "right": null,
            "top": null,
            "visibility": null,
            "width": null
          }
        },
        "3477df2f598c43cfb77a74f989002366": {
          "model_module": "@jupyter-widgets/controls",
          "model_name": "ProgressStyleModel",
          "model_module_version": "1.5.0",
          "state": {
            "_model_module": "@jupyter-widgets/controls",
            "_model_module_version": "1.5.0",
            "_model_name": "ProgressStyleModel",
            "_view_count": null,
            "_view_module": "@jupyter-widgets/base",
            "_view_module_version": "1.2.0",
            "_view_name": "StyleView",
            "bar_color": null,
            "description_width": ""
          }
        },
        "95849635f279411498d91bde39d9362c": {
          "model_module": "@jupyter-widgets/base",
          "model_name": "LayoutModel",
          "model_module_version": "1.2.0",
          "state": {
            "_model_module": "@jupyter-widgets/base",
            "_model_module_version": "1.2.0",
            "_model_name": "LayoutModel",
            "_view_count": null,
            "_view_module": "@jupyter-widgets/base",
            "_view_module_version": "1.2.0",
            "_view_name": "LayoutView",
            "align_content": null,
            "align_items": null,
            "align_self": null,
            "border": null,
            "bottom": null,
            "display": null,
            "flex": null,
            "flex_flow": null,
            "grid_area": null,
            "grid_auto_columns": null,
            "grid_auto_flow": null,
            "grid_auto_rows": null,
            "grid_column": null,
            "grid_gap": null,
            "grid_row": null,
            "grid_template_areas": null,
            "grid_template_columns": null,
            "grid_template_rows": null,
            "height": null,
            "justify_content": null,
            "justify_items": null,
            "left": null,
            "margin": null,
            "max_height": null,
            "max_width": null,
            "min_height": null,
            "min_width": null,
            "object_fit": null,
            "object_position": null,
            "order": null,
            "overflow": null,
            "overflow_x": null,
            "overflow_y": null,
            "padding": null,
            "right": null,
            "top": null,
            "visibility": null,
            "width": null
          }
        },
        "9961714aa2d9466db0848d50353dd0de": {
          "model_module": "@jupyter-widgets/controls",
          "model_name": "DescriptionStyleModel",
          "model_module_version": "1.5.0",
          "state": {
            "_model_module": "@jupyter-widgets/controls",
            "_model_module_version": "1.5.0",
            "_model_name": "DescriptionStyleModel",
            "_view_count": null,
            "_view_module": "@jupyter-widgets/base",
            "_view_module_version": "1.2.0",
            "_view_name": "StyleView",
            "description_width": ""
          }
        }
      }
    }
  },
  "nbformat": 4,
  "nbformat_minor": 0
}